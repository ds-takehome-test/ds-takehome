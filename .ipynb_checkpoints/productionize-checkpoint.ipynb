{
 "cells": [
  {
   "cell_type": "code",
   "execution_count": null,
   "id": "e1aa9a89",
   "metadata": {},
   "outputs": [],
   "source": [
    "import h2o\n",
    "import pandas as pd"
   ]
  },
  {
   "cell_type": "code",
   "execution_count": null,
   "id": "97cf5d1b",
   "metadata": {},
   "outputs": [],
   "source": [
    "test_data = pd.read_csv('recruiting_zeta-disease_prediction-data_take-home-challenge - 2021-01-21_zeta-disease_prediction-data_take-home-challenge.csv')\n",
    "test_data.head()"
   ]
  },
  {
   "cell_type": "code",
   "execution_count": null,
   "id": "80881630",
   "metadata": {},
   "outputs": [],
   "source": [
    "#Check for issue that showed up in training data where years_smoking could be > age\n",
    "#ideally will return 0 rows\n",
    "check = test_data[test_data.years_smoking > test_data.age]\n",
    "check.head(20)"
   ]
  },
  {
   "cell_type": "code",
   "execution_count": null,
   "id": "fcf9cbde",
   "metadata": {},
   "outputs": [],
   "source": [
    "h2o.init()\n",
    "model = h2o.load_model('model')"
   ]
  },
  {
   "cell_type": "code",
   "execution_count": null,
   "id": "d1a2fa69",
   "metadata": {},
   "outputs": [],
   "source": [
    "#Read in replacements for 0's in bmi and blood_pressure that were determined during model creation\n",
    "replacements = pd.read_csv('replacement_vals.csv')\n",
    "replacements.head()    \n"
   ]
  },
  {
   "cell_type": "code",
   "execution_count": null,
   "id": "4afcc628",
   "metadata": {},
   "outputs": [],
   "source": [
    "def cleanup_data(data, replacements):\n",
    "    #Get rid of zeta_disease column for now\n",
    "    data = data.drop('zeta_disease', axis = 1)\n",
    "\n",
    "    #Replace cases where bmi = 0 with non-zero mean from training data\n",
    "    #Even 0's aren't showing up now, the goal is to replicate production logic\n",
    "    data.loc[data.bmi <= 0, 'bmi'] = replacements.bmi[0]\n",
    "    \n",
    "    #Replace cases where blood_pressure = 0 with non-zero mean from training data\n",
    "    data.loc[data.blood_pressure <= 0, 'blood_pressure'] = replacements.blood_pressure[0]\n",
    "    return(data)\n",
    "\n"
   ]
  },
  {
   "cell_type": "code",
   "execution_count": null,
   "id": "38965e4e",
   "metadata": {},
   "outputs": [],
   "source": [
    "model_input = cleanup_data(test_data, replacements)"
   ]
  },
  {
   "cell_type": "code",
   "execution_count": null,
   "id": "377df57b",
   "metadata": {},
   "outputs": [],
   "source": [
    "model_input.head()"
   ]
  },
  {
   "cell_type": "code",
   "execution_count": null,
   "id": "677d3ba9",
   "metadata": {},
   "outputs": [],
   "source": [
    "def create_predictions(data, model):\n",
    "    #Convert to h2o object\n",
    "    data_h20 = h2o.H2OFrame(data)\n",
    "    \n",
    "    #Use model created in R to create predictions on new data\n",
    "    predictions = model.predict(data_h20)\n",
    "    \n",
    "    #Append prediction back on to original dataframe\n",
    "    predictions_pd = predictions.as_data_frame()\n",
    "\n",
    "    output_dat = data\n",
    "    output_dat['zeta_disease'] = predictions_pd.predict\n",
    "    return(output_dat)\n"
   ]
  },
  {
   "cell_type": "code",
   "execution_count": null,
   "id": "3096ff82",
   "metadata": {},
   "outputs": [],
   "source": [
    "final_predictions = create_predictions(model_input, model)"
   ]
  },
  {
   "cell_type": "code",
   "execution_count": null,
   "id": "6332e94a",
   "metadata": {},
   "outputs": [],
   "source": [
    "final_predictions.head(20)"
   ]
  },
  {
   "cell_type": "code",
   "execution_count": null,
   "id": "20c8f0d7",
   "metadata": {},
   "outputs": [],
   "source": [
    "final_predictions.to_csv('PROJECT DELIVERABLES/results.csv', index = False)"
   ]
  },
  {
   "cell_type": "code",
   "execution_count": null,
   "id": "45ddcb02",
   "metadata": {},
   "outputs": [],
   "source": []
  }
 ],
 "metadata": {
  "kernelspec": {
   "display_name": "Python 3",
   "language": "python",
   "name": "python3"
  },
  "language_info": {
   "codemirror_mode": {
    "name": "ipython",
    "version": 3
   },
   "file_extension": ".py",
   "mimetype": "text/x-python",
   "name": "python",
   "nbconvert_exporter": "python",
   "pygments_lexer": "ipython3",
   "version": "3.6.13"
  }
 },
 "nbformat": 4,
 "nbformat_minor": 5
}
